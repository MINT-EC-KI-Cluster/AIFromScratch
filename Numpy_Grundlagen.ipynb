{
  "nbformat": 4,
  "nbformat_minor": 0,
  "metadata": {
    "colab": {
      "provenance": []
    },
    "kernelspec": {
      "name": "python3",
      "display_name": "Python 3"
    },
    "language_info": {
      "name": "python"
    }
  },
  "cells": [
    {
      "cell_type": "markdown",
      "source": [
        "**Das numpy Modul importieren, um es verwenden zu können:**"
      ],
      "metadata": {
        "id": "zc_uH98qyRxS"
      }
    },
    {
      "cell_type": "code",
      "source": [
        "import numpy as np"
      ],
      "metadata": {
        "id": "CMBuCQ7dyQ4B"
      },
      "execution_count": 1,
      "outputs": []
    },
    {
      "cell_type": "markdown",
      "source": [
        "**Wir können nun Arrays erstellen und mit zufälligen Werten füllen.**\n",
        "\n",
        "**Ein Tensor ist eindimensional, also besitzt es eine shap mit einem Wert: shape=(_size_)**\n",
        "\n",
        "**Eine Matrix ist zweidimensional, also besitzt sie eine shape mit zwei Werten: shape=(_zeilen_, _spalten_)**\n",
        "\n",
        "**Um nun ein Array zu erstellen, kann folgender Befehl genutzt werden:**\n",
        "\n",
        "**np.random.uniform(_min_, _max_, _shape_)**\n"
      ],
      "metadata": {
        "id": "btV4Yqqyyd3M"
      }
    },
    {
      "cell_type": "code",
      "source": [
        "#Zwei Vektoren mit 3 Werten\n",
        "vector1 = np.random.uniform(-0.5,0.5,(3)) # Werte zwischen -0.5 und 0.5\n",
        "vector2 = np.random.uniform(-1,1, (3)) # Werte zwischen -1 und 1\n",
        "\n",
        "#Eine Matrix mit drei Zeilen und zwei Spalten\n",
        "matrice = np.random.uniform(-0.5,0.5, (3,2)) # Werte zwischen -0.5 und 0.5\n",
        "\n",
        "\n",
        "#Arrays ausgeben\n",
        "print(\"vector1:\")\n",
        "print(vector1)\n",
        "print(\"\\nvensor2:\")\n",
        "print(vector2)\n",
        "print(\"\\nmatrice:\")\n",
        "print(matrice)"
      ],
      "metadata": {
        "colab": {
          "base_uri": "https://localhost:8080/"
        },
        "id": "VI-hbYCWyb2b",
        "outputId": "f92622af-e0c0-4441-ead5-b2f91b9e3f0d"
      },
      "execution_count": 2,
      "outputs": [
        {
          "output_type": "stream",
          "name": "stdout",
          "text": [
            "vector1:\n",
            "[-0.05931032 -0.23089223 -0.10698298]\n",
            "\n",
            "vensor2:\n",
            "[-0.52171645  0.11428961 -0.36030022]\n",
            "\n",
            "matrice:\n",
            "[[ 0.02623612  0.47228666]\n",
            " [ 0.34014683 -0.24994308]\n",
            " [ 0.01546724  0.34990901]]\n"
          ]
        }
      ]
    },
    {
      "cell_type": "markdown",
      "source": [
        "**Addieren und Subtrahieren von Tensoren**"
      ],
      "metadata": {
        "id": "b05VrsAQ0uEi"
      }
    },
    {
      "cell_type": "code",
      "source": [
        "print(\"vector1 und vector2 addiert:\")\n",
        "print(vector1 + vector2)\n",
        "\n",
        "print(\"\\nvector2 von vector1 subtrahiert:\")\n",
        "print(vector1 - vector2)"
      ],
      "metadata": {
        "colab": {
          "base_uri": "https://localhost:8080/"
        },
        "id": "QZ49N-5N0tlk",
        "outputId": "78a5c755-cb21-47ec-e8dc-d0b14ebbac1d"
      },
      "execution_count": 15,
      "outputs": [
        {
          "output_type": "stream",
          "name": "stdout",
          "text": [
            "vector1 und vector2 addiert:\n",
            "[ 1.00637794  0.54300209 -0.88588018]\n",
            "\n",
            "vector2 von vector1 subtrahiert:\n",
            "[-2.63170295e-01 -5.30783304e-01  4.16322745e-04]\n"
          ]
        }
      ]
    },
    {
      "cell_type": "markdown",
      "source": [
        "**Hadamard-Produkt zweier Tensoren bilden**\n",
        "\n",
        "**Mathematische Schreibweise: tensor1 ⊗ tensor2**"
      ],
      "metadata": {
        "id": "7uCr7VF61WJf"
      }
    },
    {
      "cell_type": "code",
      "execution_count": 16,
      "metadata": {
        "colab": {
          "base_uri": "https://localhost:8080/"
        },
        "id": "4yvlLES1yOnP",
        "outputId": "ea7184d3-e408-4413-8748-6a246137cfe4"
      },
      "outputs": [
        {
          "output_type": "stream",
          "name": "stdout",
          "text": [
            "Hadamard Produkt von vector1 und vector2:\n",
            "[0.23588449 0.00328009 0.19619588]\n"
          ]
        }
      ],
      "source": [
        "print(\"Hadamard Produkt von vector1 und vector2:\")\n",
        "print(vector1 * vector2)"
      ]
    },
    {
      "cell_type": "markdown",
      "source": [
        "**Matrixmultiplikation**\n",
        "\n",
        "**Mathematische Schreibweise: tensor1 * tensor2**"
      ],
      "metadata": {
        "id": "TG-LVfNM2qNU"
      }
    },
    {
      "cell_type": "code",
      "source": [
        "print(\"Matrixprodukt von matrice und vector1\")\n",
        "print(vector1@matrice)"
      ],
      "metadata": {
        "colab": {
          "base_uri": "https://localhost:8080/"
        },
        "id": "xkJEVm2q25S1",
        "outputId": "1a3e1001-0d61-48d9-dddb-28c3af58d1d5"
      },
      "execution_count": 17,
      "outputs": [
        {
          "output_type": "stream",
          "name": "stdout",
          "text": [
            "Matrixprodukt von matrice und vector1\n",
            "[-0.02004958 -0.0444881 ]\n"
          ]
        }
      ]
    },
    {
      "cell_type": "markdown",
      "source": [
        "**Eine Matrix transponieren (Zeile und Spalte vertauschen)**\n",
        "**Mathematische Schreibweise: matrice^T"
      ],
      "metadata": {
        "id": "gUQTaKnmFJQc"
      }
    },
    {
      "cell_type": "code",
      "source": [
        "print(matrice.T)"
      ],
      "metadata": {
        "colab": {
          "base_uri": "https://localhost:8080/"
        },
        "id": "BFHYJUdbFIMk",
        "outputId": "5e70fc52-7fe2-4eb5-d4fa-876f1bd8b72d"
      },
      "execution_count": 4,
      "outputs": [
        {
          "output_type": "stream",
          "name": "stdout",
          "text": [
            "[[-0.19211982 -0.13582062  0.06605181]\n",
            " [ 0.05142288  0.12236384  0.08554814]]\n"
          ]
        }
      ]
    },
    {
      "cell_type": "markdown",
      "source": [
        "Werte der Matrix einer Achse aufsummieren:"
      ],
      "metadata": {
        "id": "WQpBUQdkGbxJ"
      }
    },
    {
      "cell_type": "code",
      "source": [
        "print(\"Auf Zeilenebene:\")\n",
        "print(matrice.sum(axis=0))\n",
        "\n",
        "print(\"\\n Auf Spaltenebene:\")\n",
        "print(matrice.sum(axis=1))"
      ],
      "metadata": {
        "colab": {
          "base_uri": "https://localhost:8080/"
        },
        "id": "rigEQD6dGhYQ",
        "outputId": "17e2aa54-2361-4fc5-fbff-9fe57b2e8a9c"
      },
      "execution_count": 3,
      "outputs": [
        {
          "output_type": "stream",
          "name": "stdout",
          "text": [
            "Auf Zeilenebene:\n",
            "[0.38185019 0.57225259]\n",
            "\n",
            " Auf Spaltenebene:\n",
            "[0.49852278 0.09020375 0.36537625]\n"
          ]
        }
      ]
    }
  ]
}